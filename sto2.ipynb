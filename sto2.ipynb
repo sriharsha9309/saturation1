{
 "cells": [
  {
   "cell_type": "code",
   "execution_count": 2,
   "id": "33fa0ae0",
   "metadata": {},
   "outputs": [],
   "source": [
    "import numpy as np\n",
    "import pandas as pd"
   ]
  },
  {
   "cell_type": "code",
   "execution_count": 3,
   "id": "922b7c54",
   "metadata": {},
   "outputs": [],
   "source": [
    "df=pd.read_csv(\"G:\\CHADUVUKORA_YEDAVA\\data\\data01.csv\")"
   ]
  },
  {
   "cell_type": "code",
   "execution_count": 4,
   "id": "c91055af",
   "metadata": {},
   "outputs": [
    {
     "data": {
      "text/html": [
       "<div>\n",
       "<style scoped>\n",
       "    .dataframe tbody tr th:only-of-type {\n",
       "        vertical-align: middle;\n",
       "    }\n",
       "\n",
       "    .dataframe tbody tr th {\n",
       "        vertical-align: top;\n",
       "    }\n",
       "\n",
       "    .dataframe thead th {\n",
       "        text-align: right;\n",
       "    }\n",
       "</style>\n",
       "<table border=\"1\" class=\"dataframe\">\n",
       "  <thead>\n",
       "    <tr style=\"text-align: right;\">\n",
       "      <th></th>\n",
       "      <th>group</th>\n",
       "      <th>ID</th>\n",
       "      <th>outcome</th>\n",
       "      <th>age</th>\n",
       "      <th>gendera</th>\n",
       "      <th>BMI</th>\n",
       "      <th>hypertensive</th>\n",
       "      <th>atrialfibrillation</th>\n",
       "      <th>CHD with no MI</th>\n",
       "      <th>diabetes</th>\n",
       "      <th>...</th>\n",
       "      <th>Blood sodium</th>\n",
       "      <th>Blood calcium</th>\n",
       "      <th>Chloride</th>\n",
       "      <th>Anion gap</th>\n",
       "      <th>Magnesium ion</th>\n",
       "      <th>PH</th>\n",
       "      <th>Bicarbonate</th>\n",
       "      <th>Lactic acid</th>\n",
       "      <th>PCO2</th>\n",
       "      <th>EF</th>\n",
       "    </tr>\n",
       "  </thead>\n",
       "  <tbody>\n",
       "    <tr>\n",
       "      <th>0</th>\n",
       "      <td>1</td>\n",
       "      <td>125047</td>\n",
       "      <td>0.0</td>\n",
       "      <td>72</td>\n",
       "      <td>1</td>\n",
       "      <td>37.588179</td>\n",
       "      <td>0</td>\n",
       "      <td>0</td>\n",
       "      <td>0</td>\n",
       "      <td>1</td>\n",
       "      <td>...</td>\n",
       "      <td>138.750000</td>\n",
       "      <td>7.463636</td>\n",
       "      <td>109.166667</td>\n",
       "      <td>13.166667</td>\n",
       "      <td>2.618182</td>\n",
       "      <td>7.230</td>\n",
       "      <td>21.166667</td>\n",
       "      <td>0.5</td>\n",
       "      <td>40.0</td>\n",
       "      <td>55</td>\n",
       "    </tr>\n",
       "    <tr>\n",
       "      <th>1</th>\n",
       "      <td>1</td>\n",
       "      <td>139812</td>\n",
       "      <td>0.0</td>\n",
       "      <td>75</td>\n",
       "      <td>2</td>\n",
       "      <td>NaN</td>\n",
       "      <td>0</td>\n",
       "      <td>0</td>\n",
       "      <td>0</td>\n",
       "      <td>0</td>\n",
       "      <td>...</td>\n",
       "      <td>138.888889</td>\n",
       "      <td>8.162500</td>\n",
       "      <td>98.444444</td>\n",
       "      <td>11.444444</td>\n",
       "      <td>1.887500</td>\n",
       "      <td>7.225</td>\n",
       "      <td>33.444444</td>\n",
       "      <td>0.5</td>\n",
       "      <td>78.0</td>\n",
       "      <td>55</td>\n",
       "    </tr>\n",
       "    <tr>\n",
       "      <th>2</th>\n",
       "      <td>1</td>\n",
       "      <td>109787</td>\n",
       "      <td>0.0</td>\n",
       "      <td>83</td>\n",
       "      <td>2</td>\n",
       "      <td>26.572634</td>\n",
       "      <td>0</td>\n",
       "      <td>0</td>\n",
       "      <td>0</td>\n",
       "      <td>0</td>\n",
       "      <td>...</td>\n",
       "      <td>140.714286</td>\n",
       "      <td>8.266667</td>\n",
       "      <td>105.857143</td>\n",
       "      <td>10.000000</td>\n",
       "      <td>2.157143</td>\n",
       "      <td>7.268</td>\n",
       "      <td>30.571429</td>\n",
       "      <td>0.5</td>\n",
       "      <td>71.5</td>\n",
       "      <td>35</td>\n",
       "    </tr>\n",
       "    <tr>\n",
       "      <th>3</th>\n",
       "      <td>1</td>\n",
       "      <td>130587</td>\n",
       "      <td>0.0</td>\n",
       "      <td>43</td>\n",
       "      <td>2</td>\n",
       "      <td>83.264629</td>\n",
       "      <td>0</td>\n",
       "      <td>0</td>\n",
       "      <td>0</td>\n",
       "      <td>0</td>\n",
       "      <td>...</td>\n",
       "      <td>138.500000</td>\n",
       "      <td>9.476923</td>\n",
       "      <td>92.071429</td>\n",
       "      <td>12.357143</td>\n",
       "      <td>1.942857</td>\n",
       "      <td>7.370</td>\n",
       "      <td>38.571429</td>\n",
       "      <td>0.6</td>\n",
       "      <td>75.0</td>\n",
       "      <td>55</td>\n",
       "    </tr>\n",
       "    <tr>\n",
       "      <th>4</th>\n",
       "      <td>1</td>\n",
       "      <td>138290</td>\n",
       "      <td>0.0</td>\n",
       "      <td>75</td>\n",
       "      <td>2</td>\n",
       "      <td>31.824842</td>\n",
       "      <td>1</td>\n",
       "      <td>0</td>\n",
       "      <td>0</td>\n",
       "      <td>0</td>\n",
       "      <td>...</td>\n",
       "      <td>136.666667</td>\n",
       "      <td>8.733333</td>\n",
       "      <td>104.500000</td>\n",
       "      <td>15.166667</td>\n",
       "      <td>1.650000</td>\n",
       "      <td>7.250</td>\n",
       "      <td>22.000000</td>\n",
       "      <td>0.6</td>\n",
       "      <td>50.0</td>\n",
       "      <td>55</td>\n",
       "    </tr>\n",
       "  </tbody>\n",
       "</table>\n",
       "<p>5 rows × 51 columns</p>\n",
       "</div>"
      ],
      "text/plain": [
       "   group      ID  outcome  age  gendera        BMI  hypertensive  \\\n",
       "0      1  125047      0.0   72        1  37.588179             0   \n",
       "1      1  139812      0.0   75        2        NaN             0   \n",
       "2      1  109787      0.0   83        2  26.572634             0   \n",
       "3      1  130587      0.0   43        2  83.264629             0   \n",
       "4      1  138290      0.0   75        2  31.824842             1   \n",
       "\n",
       "   atrialfibrillation  CHD with no MI  diabetes  ...  Blood sodium  \\\n",
       "0                   0               0         1  ...    138.750000   \n",
       "1                   0               0         0  ...    138.888889   \n",
       "2                   0               0         0  ...    140.714286   \n",
       "3                   0               0         0  ...    138.500000   \n",
       "4                   0               0         0  ...    136.666667   \n",
       "\n",
       "   Blood calcium    Chloride  Anion gap  Magnesium ion     PH  Bicarbonate  \\\n",
       "0       7.463636  109.166667  13.166667       2.618182  7.230    21.166667   \n",
       "1       8.162500   98.444444  11.444444       1.887500  7.225    33.444444   \n",
       "2       8.266667  105.857143  10.000000       2.157143  7.268    30.571429   \n",
       "3       9.476923   92.071429  12.357143       1.942857  7.370    38.571429   \n",
       "4       8.733333  104.500000  15.166667       1.650000  7.250    22.000000   \n",
       "\n",
       "   Lactic acid  PCO2  EF  \n",
       "0          0.5  40.0  55  \n",
       "1          0.5  78.0  55  \n",
       "2          0.5  71.5  35  \n",
       "3          0.6  75.0  55  \n",
       "4          0.6  50.0  55  \n",
       "\n",
       "[5 rows x 51 columns]"
      ]
     },
     "execution_count": 4,
     "metadata": {},
     "output_type": "execute_result"
    }
   ],
   "source": [
    "df.head()"
   ]
  },
  {
   "cell_type": "code",
   "execution_count": null,
   "id": "89c63f67",
   "metadata": {},
   "outputs": [],
   "source": []
  },
  {
   "cell_type": "code",
   "execution_count": 5,
   "id": "6c5b21da",
   "metadata": {},
   "outputs": [],
   "source": [
    "df=df[[\"age\",\"BMI\",\"diabetes\",\"Systolic blood pressure\",\"Diastolic blood pressure\",\"Respiratory rate\",\"heart rate\",\"SP O2\"]]"
   ]
  },
  {
   "cell_type": "code",
   "execution_count": 6,
   "id": "0b29c9eb",
   "metadata": {},
   "outputs": [
    {
     "data": {
      "text/html": [
       "<div>\n",
       "<style scoped>\n",
       "    .dataframe tbody tr th:only-of-type {\n",
       "        vertical-align: middle;\n",
       "    }\n",
       "\n",
       "    .dataframe tbody tr th {\n",
       "        vertical-align: top;\n",
       "    }\n",
       "\n",
       "    .dataframe thead th {\n",
       "        text-align: right;\n",
       "    }\n",
       "</style>\n",
       "<table border=\"1\" class=\"dataframe\">\n",
       "  <thead>\n",
       "    <tr style=\"text-align: right;\">\n",
       "      <th></th>\n",
       "      <th>age</th>\n",
       "      <th>BMI</th>\n",
       "      <th>diabetes</th>\n",
       "      <th>Systolic blood pressure</th>\n",
       "      <th>Diastolic blood pressure</th>\n",
       "      <th>Respiratory rate</th>\n",
       "      <th>heart rate</th>\n",
       "      <th>SP O2</th>\n",
       "    </tr>\n",
       "  </thead>\n",
       "  <tbody>\n",
       "    <tr>\n",
       "      <th>0</th>\n",
       "      <td>72</td>\n",
       "      <td>37.588179</td>\n",
       "      <td>1</td>\n",
       "      <td>155.866667</td>\n",
       "      <td>68.333333</td>\n",
       "      <td>16.621622</td>\n",
       "      <td>68.837838</td>\n",
       "      <td>98.394737</td>\n",
       "    </tr>\n",
       "    <tr>\n",
       "      <th>1</th>\n",
       "      <td>75</td>\n",
       "      <td>NaN</td>\n",
       "      <td>0</td>\n",
       "      <td>140.000000</td>\n",
       "      <td>65.000000</td>\n",
       "      <td>20.851852</td>\n",
       "      <td>101.370370</td>\n",
       "      <td>96.923077</td>\n",
       "    </tr>\n",
       "    <tr>\n",
       "      <th>2</th>\n",
       "      <td>83</td>\n",
       "      <td>26.572634</td>\n",
       "      <td>0</td>\n",
       "      <td>135.333333</td>\n",
       "      <td>61.375000</td>\n",
       "      <td>23.640000</td>\n",
       "      <td>72.318182</td>\n",
       "      <td>95.291667</td>\n",
       "    </tr>\n",
       "    <tr>\n",
       "      <th>3</th>\n",
       "      <td>43</td>\n",
       "      <td>83.264629</td>\n",
       "      <td>0</td>\n",
       "      <td>126.400000</td>\n",
       "      <td>73.200000</td>\n",
       "      <td>21.857143</td>\n",
       "      <td>94.500000</td>\n",
       "      <td>93.846154</td>\n",
       "    </tr>\n",
       "    <tr>\n",
       "      <th>4</th>\n",
       "      <td>75</td>\n",
       "      <td>31.824842</td>\n",
       "      <td>0</td>\n",
       "      <td>156.560000</td>\n",
       "      <td>58.120000</td>\n",
       "      <td>21.360000</td>\n",
       "      <td>67.920000</td>\n",
       "      <td>99.280000</td>\n",
       "    </tr>\n",
       "  </tbody>\n",
       "</table>\n",
       "</div>"
      ],
      "text/plain": [
       "   age        BMI  diabetes  Systolic blood pressure  \\\n",
       "0   72  37.588179         1               155.866667   \n",
       "1   75        NaN         0               140.000000   \n",
       "2   83  26.572634         0               135.333333   \n",
       "3   43  83.264629         0               126.400000   \n",
       "4   75  31.824842         0               156.560000   \n",
       "\n",
       "   Diastolic blood pressure  Respiratory rate  heart rate      SP O2  \n",
       "0                 68.333333         16.621622   68.837838  98.394737  \n",
       "1                 65.000000         20.851852  101.370370  96.923077  \n",
       "2                 61.375000         23.640000   72.318182  95.291667  \n",
       "3                 73.200000         21.857143   94.500000  93.846154  \n",
       "4                 58.120000         21.360000   67.920000  99.280000  "
      ]
     },
     "execution_count": 6,
     "metadata": {},
     "output_type": "execute_result"
    }
   ],
   "source": [
    "df.head()"
   ]
  },
  {
   "cell_type": "code",
   "execution_count": 7,
   "id": "61beee2a",
   "metadata": {},
   "outputs": [
    {
     "data": {
      "text/plain": [
       "age                           0\n",
       "BMI                         215\n",
       "diabetes                      0\n",
       "Systolic blood pressure      16\n",
       "Diastolic blood pressure     16\n",
       "Respiratory rate             13\n",
       "heart rate                   13\n",
       "SP O2                        13\n",
       "dtype: int64"
      ]
     },
     "execution_count": 7,
     "metadata": {},
     "output_type": "execute_result"
    }
   ],
   "source": [
    "df.isnull().sum()"
   ]
  },
  {
   "cell_type": "code",
   "execution_count": 8,
   "id": "42462004",
   "metadata": {},
   "outputs": [],
   "source": [
    "df[\"BMI\"].fillna(df[\"BMI\"].median(), inplace=True)"
   ]
  },
  {
   "cell_type": "code",
   "execution_count": 9,
   "id": "2a5f2d7c",
   "metadata": {},
   "outputs": [],
   "source": [
    "df[\"SP O2\"].fillna(df[\"SP O2\"].mean(), inplace=True)\n",
    "df[\"heart rate\"].fillna(df[\"heart rate\"].median(), inplace=True)\n",
    "df[\"Systolic blood pressure\"].fillna(df[\"Systolic blood pressure\"].median(), inplace=True)\n",
    "df[\"Diastolic blood pressure\"].fillna(df[\"Diastolic blood pressure\"].median(), inplace=True)"
   ]
  },
  {
   "cell_type": "code",
   "execution_count": 10,
   "id": "dd63c91f",
   "metadata": {},
   "outputs": [],
   "source": [
    "df[\"Respiratory rate\"].fillna(df[\"Respiratory rate\"].median(), inplace=True)"
   ]
  },
  {
   "cell_type": "code",
   "execution_count": 11,
   "id": "8e1a96aa",
   "metadata": {},
   "outputs": [],
   "source": [
    "df['Diastolic blood pressure']=df['Diastolic blood pressure']/10\n",
    "df['Respiratory rate']=df['Respiratory rate']/10\n",
    "df['heart rate']=df['heart rate']/10\n",
    "df['SP O2']=df['SP O2']/100\n",
    "df['Systolic blood pressure']=df['Systolic blood pressure']/100"
   ]
  },
  {
   "cell_type": "code",
   "execution_count": null,
   "id": "4bb27469",
   "metadata": {},
   "outputs": [],
   "source": []
  },
  {
   "cell_type": "code",
   "execution_count": 12,
   "id": "e9964482",
   "metadata": {},
   "outputs": [],
   "source": [
    "df.rename(columns={'Diastolic blood pressure':'Diastolic_blood_pressure','Respiratory rate':'Respiratory_rate','heart rate':'heart_rate','SP O2':'SPO2','Systolic blood pressure':'Systolic_blood_pressure'},inplace=True)"
   ]
  },
  {
   "cell_type": "code",
   "execution_count": 13,
   "id": "4ca7d6d1",
   "metadata": {},
   "outputs": [],
   "source": [
    "from sklearn.ensemble import BaggingRegressor\n",
    "br=BaggingRegressor()"
   ]
  },
  {
   "cell_type": "code",
   "execution_count": 14,
   "id": "c2560808",
   "metadata": {},
   "outputs": [
    {
     "data": {
      "text/html": [
       "<div>\n",
       "<style scoped>\n",
       "    .dataframe tbody tr th:only-of-type {\n",
       "        vertical-align: middle;\n",
       "    }\n",
       "\n",
       "    .dataframe tbody tr th {\n",
       "        vertical-align: top;\n",
       "    }\n",
       "\n",
       "    .dataframe thead th {\n",
       "        text-align: right;\n",
       "    }\n",
       "</style>\n",
       "<table border=\"1\" class=\"dataframe\">\n",
       "  <thead>\n",
       "    <tr style=\"text-align: right;\">\n",
       "      <th></th>\n",
       "      <th>age</th>\n",
       "      <th>BMI</th>\n",
       "      <th>diabetes</th>\n",
       "      <th>Systolic_blood_pressure</th>\n",
       "      <th>Diastolic_blood_pressure</th>\n",
       "      <th>Respiratory_rate</th>\n",
       "      <th>heart_rate</th>\n",
       "      <th>SPO2</th>\n",
       "    </tr>\n",
       "  </thead>\n",
       "  <tbody>\n",
       "    <tr>\n",
       "      <th>0</th>\n",
       "      <td>72</td>\n",
       "      <td>37.588179</td>\n",
       "      <td>1</td>\n",
       "      <td>1.558667</td>\n",
       "      <td>6.833333</td>\n",
       "      <td>1.662162</td>\n",
       "      <td>6.883784</td>\n",
       "      <td>0.983947</td>\n",
       "    </tr>\n",
       "    <tr>\n",
       "      <th>1</th>\n",
       "      <td>75</td>\n",
       "      <td>28.312474</td>\n",
       "      <td>0</td>\n",
       "      <td>1.400000</td>\n",
       "      <td>6.500000</td>\n",
       "      <td>2.085185</td>\n",
       "      <td>10.137037</td>\n",
       "      <td>0.969231</td>\n",
       "    </tr>\n",
       "    <tr>\n",
       "      <th>2</th>\n",
       "      <td>83</td>\n",
       "      <td>26.572634</td>\n",
       "      <td>0</td>\n",
       "      <td>1.353333</td>\n",
       "      <td>6.137500</td>\n",
       "      <td>2.364000</td>\n",
       "      <td>7.231818</td>\n",
       "      <td>0.952917</td>\n",
       "    </tr>\n",
       "    <tr>\n",
       "      <th>3</th>\n",
       "      <td>43</td>\n",
       "      <td>83.264629</td>\n",
       "      <td>0</td>\n",
       "      <td>1.264000</td>\n",
       "      <td>7.320000</td>\n",
       "      <td>2.185714</td>\n",
       "      <td>9.450000</td>\n",
       "      <td>0.938462</td>\n",
       "    </tr>\n",
       "    <tr>\n",
       "      <th>4</th>\n",
       "      <td>75</td>\n",
       "      <td>31.824842</td>\n",
       "      <td>0</td>\n",
       "      <td>1.565600</td>\n",
       "      <td>5.812000</td>\n",
       "      <td>2.136000</td>\n",
       "      <td>6.792000</td>\n",
       "      <td>0.992800</td>\n",
       "    </tr>\n",
       "  </tbody>\n",
       "</table>\n",
       "</div>"
      ],
      "text/plain": [
       "   age        BMI  diabetes  Systolic_blood_pressure  \\\n",
       "0   72  37.588179         1                 1.558667   \n",
       "1   75  28.312474         0                 1.400000   \n",
       "2   83  26.572634         0                 1.353333   \n",
       "3   43  83.264629         0                 1.264000   \n",
       "4   75  31.824842         0                 1.565600   \n",
       "\n",
       "   Diastolic_blood_pressure  Respiratory_rate  heart_rate      SPO2  \n",
       "0                  6.833333          1.662162    6.883784  0.983947  \n",
       "1                  6.500000          2.085185   10.137037  0.969231  \n",
       "2                  6.137500          2.364000    7.231818  0.952917  \n",
       "3                  7.320000          2.185714    9.450000  0.938462  \n",
       "4                  5.812000          2.136000    6.792000  0.992800  "
      ]
     },
     "execution_count": 14,
     "metadata": {},
     "output_type": "execute_result"
    }
   ],
   "source": [
    "df.head()"
   ]
  },
  {
   "cell_type": "code",
   "execution_count": 15,
   "id": "a1055b21",
   "metadata": {},
   "outputs": [],
   "source": [
    "x=df.drop(['SPO2'],axis=1)\n",
    "y=df['SPO2']"
   ]
  },
  {
   "cell_type": "code",
   "execution_count": 16,
   "id": "2a56d445",
   "metadata": {},
   "outputs": [
    {
     "data": {
      "text/html": [
       "<div>\n",
       "<style scoped>\n",
       "    .dataframe tbody tr th:only-of-type {\n",
       "        vertical-align: middle;\n",
       "    }\n",
       "\n",
       "    .dataframe tbody tr th {\n",
       "        vertical-align: top;\n",
       "    }\n",
       "\n",
       "    .dataframe thead th {\n",
       "        text-align: right;\n",
       "    }\n",
       "</style>\n",
       "<table border=\"1\" class=\"dataframe\">\n",
       "  <thead>\n",
       "    <tr style=\"text-align: right;\">\n",
       "      <th></th>\n",
       "      <th>age</th>\n",
       "      <th>BMI</th>\n",
       "      <th>diabetes</th>\n",
       "      <th>Systolic_blood_pressure</th>\n",
       "      <th>Diastolic_blood_pressure</th>\n",
       "      <th>Respiratory_rate</th>\n",
       "      <th>heart_rate</th>\n",
       "    </tr>\n",
       "  </thead>\n",
       "  <tbody>\n",
       "    <tr>\n",
       "      <th>0</th>\n",
       "      <td>72</td>\n",
       "      <td>37.588179</td>\n",
       "      <td>1</td>\n",
       "      <td>1.558667</td>\n",
       "      <td>6.833333</td>\n",
       "      <td>1.662162</td>\n",
       "      <td>6.883784</td>\n",
       "    </tr>\n",
       "    <tr>\n",
       "      <th>1</th>\n",
       "      <td>75</td>\n",
       "      <td>28.312474</td>\n",
       "      <td>0</td>\n",
       "      <td>1.400000</td>\n",
       "      <td>6.500000</td>\n",
       "      <td>2.085185</td>\n",
       "      <td>10.137037</td>\n",
       "    </tr>\n",
       "    <tr>\n",
       "      <th>2</th>\n",
       "      <td>83</td>\n",
       "      <td>26.572634</td>\n",
       "      <td>0</td>\n",
       "      <td>1.353333</td>\n",
       "      <td>6.137500</td>\n",
       "      <td>2.364000</td>\n",
       "      <td>7.231818</td>\n",
       "    </tr>\n",
       "    <tr>\n",
       "      <th>3</th>\n",
       "      <td>43</td>\n",
       "      <td>83.264629</td>\n",
       "      <td>0</td>\n",
       "      <td>1.264000</td>\n",
       "      <td>7.320000</td>\n",
       "      <td>2.185714</td>\n",
       "      <td>9.450000</td>\n",
       "    </tr>\n",
       "    <tr>\n",
       "      <th>4</th>\n",
       "      <td>75</td>\n",
       "      <td>31.824842</td>\n",
       "      <td>0</td>\n",
       "      <td>1.565600</td>\n",
       "      <td>5.812000</td>\n",
       "      <td>2.136000</td>\n",
       "      <td>6.792000</td>\n",
       "    </tr>\n",
       "  </tbody>\n",
       "</table>\n",
       "</div>"
      ],
      "text/plain": [
       "   age        BMI  diabetes  Systolic_blood_pressure  \\\n",
       "0   72  37.588179         1                 1.558667   \n",
       "1   75  28.312474         0                 1.400000   \n",
       "2   83  26.572634         0                 1.353333   \n",
       "3   43  83.264629         0                 1.264000   \n",
       "4   75  31.824842         0                 1.565600   \n",
       "\n",
       "   Diastolic_blood_pressure  Respiratory_rate  heart_rate  \n",
       "0                  6.833333          1.662162    6.883784  \n",
       "1                  6.500000          2.085185   10.137037  \n",
       "2                  6.137500          2.364000    7.231818  \n",
       "3                  7.320000          2.185714    9.450000  \n",
       "4                  5.812000          2.136000    6.792000  "
      ]
     },
     "execution_count": 16,
     "metadata": {},
     "output_type": "execute_result"
    }
   ],
   "source": [
    "x.head()\n"
   ]
  },
  {
   "cell_type": "code",
   "execution_count": 17,
   "id": "14bcd735",
   "metadata": {},
   "outputs": [],
   "source": [
    "from sklearn.model_selection import train_test_split\n",
    "xtrain, xtest, ytrain, ytest = train_test_split(x, y, test_size=0.3)"
   ]
  },
  {
   "cell_type": "code",
   "execution_count": 18,
   "id": "abb6229e",
   "metadata": {},
   "outputs": [
    {
     "data": {
      "text/plain": [
       "0    0.983947\n",
       "1    0.969231\n",
       "2    0.952917\n",
       "3    0.938462\n",
       "4    0.992800\n",
       "Name: SPO2, dtype: float64"
      ]
     },
     "execution_count": 18,
     "metadata": {},
     "output_type": "execute_result"
    }
   ],
   "source": [
    "y.head()"
   ]
  },
  {
   "cell_type": "code",
   "execution_count": 19,
   "id": "19704c76",
   "metadata": {},
   "outputs": [
    {
     "data": {
      "text/plain": [
       "BaggingRegressor()"
      ]
     },
     "execution_count": 19,
     "metadata": {},
     "output_type": "execute_result"
    }
   ],
   "source": [
    "br.fit(xtrain,ytrain)"
   ]
  },
  {
   "cell_type": "code",
   "execution_count": 20,
   "id": "4d9de7ca",
   "metadata": {},
   "outputs": [],
   "source": [
    "from sklearn.metrics import mean_absolute_error"
   ]
  },
  {
   "cell_type": "code",
   "execution_count": 21,
   "id": "b579c66c",
   "metadata": {},
   "outputs": [
    {
     "data": {
      "text/html": [
       "<div>\n",
       "<style scoped>\n",
       "    .dataframe tbody tr th:only-of-type {\n",
       "        vertical-align: middle;\n",
       "    }\n",
       "\n",
       "    .dataframe tbody tr th {\n",
       "        vertical-align: top;\n",
       "    }\n",
       "\n",
       "    .dataframe thead th {\n",
       "        text-align: right;\n",
       "    }\n",
       "</style>\n",
       "<table border=\"1\" class=\"dataframe\">\n",
       "  <thead>\n",
       "    <tr style=\"text-align: right;\">\n",
       "      <th></th>\n",
       "      <th>age</th>\n",
       "      <th>BMI</th>\n",
       "      <th>diabetes</th>\n",
       "      <th>Systolic_blood_pressure</th>\n",
       "      <th>Diastolic_blood_pressure</th>\n",
       "      <th>Respiratory_rate</th>\n",
       "      <th>heart_rate</th>\n",
       "    </tr>\n",
       "  </thead>\n",
       "  <tbody>\n",
       "    <tr>\n",
       "      <th>178</th>\n",
       "      <td>66</td>\n",
       "      <td>25.185185</td>\n",
       "      <td>0</td>\n",
       "      <td>1.359615</td>\n",
       "      <td>6.769231</td>\n",
       "      <td>2.019355</td>\n",
       "      <td>6.541667</td>\n",
       "    </tr>\n",
       "    <tr>\n",
       "      <th>606</th>\n",
       "      <td>71</td>\n",
       "      <td>25.951557</td>\n",
       "      <td>1</td>\n",
       "      <td>0.933214</td>\n",
       "      <td>5.246429</td>\n",
       "      <td>1.625000</td>\n",
       "      <td>7.041667</td>\n",
       "    </tr>\n",
       "    <tr>\n",
       "      <th>100</th>\n",
       "      <td>63</td>\n",
       "      <td>41.054688</td>\n",
       "      <td>1</td>\n",
       "      <td>1.232857</td>\n",
       "      <td>6.509524</td>\n",
       "      <td>1.891667</td>\n",
       "      <td>9.079167</td>\n",
       "    </tr>\n",
       "    <tr>\n",
       "      <th>1041</th>\n",
       "      <td>62</td>\n",
       "      <td>23.114187</td>\n",
       "      <td>1</td>\n",
       "      <td>1.249200</td>\n",
       "      <td>8.452000</td>\n",
       "      <td>2.082353</td>\n",
       "      <td>11.851852</td>\n",
       "    </tr>\n",
       "    <tr>\n",
       "      <th>242</th>\n",
       "      <td>68</td>\n",
       "      <td>38.676826</td>\n",
       "      <td>0</td>\n",
       "      <td>1.390870</td>\n",
       "      <td>7.817391</td>\n",
       "      <td>2.240000</td>\n",
       "      <td>9.644000</td>\n",
       "    </tr>\n",
       "    <tr>\n",
       "      <th>...</th>\n",
       "      <td>...</td>\n",
       "      <td>...</td>\n",
       "      <td>...</td>\n",
       "      <td>...</td>\n",
       "      <td>...</td>\n",
       "      <td>...</td>\n",
       "      <td>...</td>\n",
       "    </tr>\n",
       "    <tr>\n",
       "      <th>1065</th>\n",
       "      <td>51</td>\n",
       "      <td>70.848389</td>\n",
       "      <td>0</td>\n",
       "      <td>1.183478</td>\n",
       "      <td>8.260870</td>\n",
       "      <td>2.585185</td>\n",
       "      <td>11.504167</td>\n",
       "    </tr>\n",
       "    <tr>\n",
       "      <th>912</th>\n",
       "      <td>84</td>\n",
       "      <td>27.943088</td>\n",
       "      <td>0</td>\n",
       "      <td>1.068519</td>\n",
       "      <td>5.781481</td>\n",
       "      <td>1.760000</td>\n",
       "      <td>5.640741</td>\n",
       "    </tr>\n",
       "    <tr>\n",
       "      <th>260</th>\n",
       "      <td>69</td>\n",
       "      <td>49.461451</td>\n",
       "      <td>1</td>\n",
       "      <td>0.902000</td>\n",
       "      <td>4.552000</td>\n",
       "      <td>2.089655</td>\n",
       "      <td>9.027586</td>\n",
       "    </tr>\n",
       "    <tr>\n",
       "      <th>1011</th>\n",
       "      <td>83</td>\n",
       "      <td>21.127530</td>\n",
       "      <td>0</td>\n",
       "      <td>1.000000</td>\n",
       "      <td>4.963415</td>\n",
       "      <td>2.276744</td>\n",
       "      <td>9.702326</td>\n",
       "    </tr>\n",
       "    <tr>\n",
       "      <th>540</th>\n",
       "      <td>53</td>\n",
       "      <td>29.427286</td>\n",
       "      <td>1</td>\n",
       "      <td>1.529600</td>\n",
       "      <td>6.020000</td>\n",
       "      <td>1.500000</td>\n",
       "      <td>8.072000</td>\n",
       "    </tr>\n",
       "  </tbody>\n",
       "</table>\n",
       "<p>354 rows × 7 columns</p>\n",
       "</div>"
      ],
      "text/plain": [
       "      age        BMI  diabetes  Systolic_blood_pressure  \\\n",
       "178    66  25.185185         0                 1.359615   \n",
       "606    71  25.951557         1                 0.933214   \n",
       "100    63  41.054688         1                 1.232857   \n",
       "1041   62  23.114187         1                 1.249200   \n",
       "242    68  38.676826         0                 1.390870   \n",
       "...   ...        ...       ...                      ...   \n",
       "1065   51  70.848389         0                 1.183478   \n",
       "912    84  27.943088         0                 1.068519   \n",
       "260    69  49.461451         1                 0.902000   \n",
       "1011   83  21.127530         0                 1.000000   \n",
       "540    53  29.427286         1                 1.529600   \n",
       "\n",
       "      Diastolic_blood_pressure  Respiratory_rate  heart_rate  \n",
       "178                   6.769231          2.019355    6.541667  \n",
       "606                   5.246429          1.625000    7.041667  \n",
       "100                   6.509524          1.891667    9.079167  \n",
       "1041                  8.452000          2.082353   11.851852  \n",
       "242                   7.817391          2.240000    9.644000  \n",
       "...                        ...               ...         ...  \n",
       "1065                  8.260870          2.585185   11.504167  \n",
       "912                   5.781481          1.760000    5.640741  \n",
       "260                   4.552000          2.089655    9.027586  \n",
       "1011                  4.963415          2.276744    9.702326  \n",
       "540                   6.020000          1.500000    8.072000  \n",
       "\n",
       "[354 rows x 7 columns]"
      ]
     },
     "execution_count": 21,
     "metadata": {},
     "output_type": "execute_result"
    }
   ],
   "source": [
    "xtest"
   ]
  },
  {
   "cell_type": "code",
   "execution_count": 22,
   "id": "cf45c420",
   "metadata": {},
   "outputs": [],
   "source": [
    "ypred=br.predict(xtest)"
   ]
  },
  {
   "cell_type": "code",
   "execution_count": 23,
   "id": "e254b371",
   "metadata": {},
   "outputs": [
    {
     "data": {
      "text/plain": [
       "0.0190441826690958"
      ]
     },
     "execution_count": 23,
     "metadata": {},
     "output_type": "execute_result"
    }
   ],
   "source": [
    "mean_absolute_error(ypred,ytest)"
   ]
  },
  {
   "cell_type": "code",
   "execution_count": 24,
   "id": "a679f0a6",
   "metadata": {},
   "outputs": [],
   "source": [
    "import pickle\n",
    "pickle.dump(br,open(\"oxy.pkl\",\"wb\"))"
   ]
  },
  {
   "cell_type": "code",
   "execution_count": 25,
   "id": "7715cd5a",
   "metadata": {},
   "outputs": [],
   "source": [
    "yn=br.predict(xtrain)"
   ]
  },
  {
   "cell_type": "code",
   "execution_count": 26,
   "id": "799875a3",
   "metadata": {},
   "outputs": [
    {
     "data": {
      "text/plain": [
       "0.9844216911599999"
      ]
     },
     "execution_count": 26,
     "metadata": {},
     "output_type": "execute_result"
    }
   ],
   "source": [
    "yn[0]"
   ]
  },
  {
   "cell_type": "code",
   "execution_count": 27,
   "id": "592afce8",
   "metadata": {},
   "outputs": [],
   "source": [
    "m=pickle.load(open('oxy.pkl','rb'))"
   ]
  },
  {
   "cell_type": "code",
   "execution_count": 28,
   "id": "1a5c5cc7",
   "metadata": {},
   "outputs": [
    {
     "data": {
      "text/plain": [
       "array([['72', '37.588179', '1', '155.866667', '68.333333', '16.621622',\n",
       "        '68.837838']], dtype='<U10')"
      ]
     },
     "execution_count": 28,
     "metadata": {},
     "output_type": "execute_result"
    }
   ],
   "source": [
    "y=np.array([['72','37.588179','1','155.866667','68.333333','16.621622','68.837838']])\n",
    "y"
   ]
  },
  {
   "cell_type": "code",
   "execution_count": 29,
   "id": "44ae9e61",
   "metadata": {},
   "outputs": [
    {
     "data": {
      "text/plain": [
       "(1, 7)"
      ]
     },
     "execution_count": 29,
     "metadata": {},
     "output_type": "execute_result"
    }
   ],
   "source": [
    "y.reshape(-1,1)\n",
    "y.shape"
   ]
  },
  {
   "cell_type": "code",
   "execution_count": 30,
   "id": "d383c701",
   "metadata": {},
   "outputs": [],
   "source": [
    "y=pd.DataFrame(y)"
   ]
  },
  {
   "cell_type": "code",
   "execution_count": 31,
   "id": "c90285f9",
   "metadata": {},
   "outputs": [
    {
     "name": "stderr",
     "output_type": "stream",
     "text": [
      "C:\\Users\\ASUS\\anaconda3\\lib\\site-packages\\sklearn\\base.py:450: UserWarning: X does not have valid feature names, but BaggingRegressor was fitted with feature names\n",
      "  warnings.warn(\n"
     ]
    },
    {
     "data": {
      "text/plain": [
       "array([0.94802199])"
      ]
     },
     "execution_count": 31,
     "metadata": {},
     "output_type": "execute_result"
    }
   ],
   "source": [
    "m.predict(y)"
   ]
  },
  {
   "cell_type": "code",
   "execution_count": null,
   "id": "0670ca20",
   "metadata": {},
   "outputs": [],
   "source": []
  },
  {
   "cell_type": "code",
   "execution_count": 33,
   "id": "6a63f7c7",
   "metadata": {},
   "outputs": [],
   "source": [
    "import matplotlib as plt"
   ]
  },
  {
   "cell_type": "code",
   "execution_count": 35,
   "id": "1d68e755",
   "metadata": {},
   "outputs": [
    {
     "ename": "AttributeError",
     "evalue": "module 'matplotlib' has no attribute 'figure'",
     "output_type": "error",
     "traceback": [
      "\u001b[1;31m---------------------------------------------------------------------------\u001b[0m",
      "\u001b[1;31mAttributeError\u001b[0m                            Traceback (most recent call last)",
      "Input \u001b[1;32mIn [35]\u001b[0m, in \u001b[0;36m<cell line: 1>\u001b[1;34m()\u001b[0m\n\u001b[1;32m----> 1\u001b[0m \u001b[43mplt\u001b[49m\u001b[38;5;241;43m.\u001b[39;49m\u001b[43mfigure\u001b[49m(figsize\u001b[38;5;241m=\u001b[39m(\u001b[38;5;241m8\u001b[39m, \u001b[38;5;241m4\u001b[39m))\n\u001b[0;32m      2\u001b[0m sns\u001b[38;5;241m.\u001b[39mhistplot(y, bins\u001b[38;5;241m=\u001b[39m\u001b[38;5;241m20\u001b[39m, kde\u001b[38;5;241m=\u001b[39m\u001b[38;5;28;01mTrue\u001b[39;00m)\n\u001b[0;32m      3\u001b[0m plt\u001b[38;5;241m.\u001b[39mtitle(\u001b[38;5;124m'\u001b[39m\u001b[38;5;124mDistribution of SP O2\u001b[39m\u001b[38;5;124m'\u001b[39m)\n",
      "File \u001b[1;32m~\\anaconda3\\lib\\site-packages\\matplotlib\\_api\\__init__.py:222\u001b[0m, in \u001b[0;36mcaching_module_getattr.<locals>.__getattr__\u001b[1;34m(name)\u001b[0m\n\u001b[0;32m    220\u001b[0m \u001b[38;5;28;01mif\u001b[39;00m name \u001b[38;5;129;01min\u001b[39;00m props:\n\u001b[0;32m    221\u001b[0m     \u001b[38;5;28;01mreturn\u001b[39;00m props[name]\u001b[38;5;241m.\u001b[39m\u001b[38;5;21m__get__\u001b[39m(instance)\n\u001b[1;32m--> 222\u001b[0m \u001b[38;5;28;01mraise\u001b[39;00m \u001b[38;5;167;01mAttributeError\u001b[39;00m(\n\u001b[0;32m    223\u001b[0m     \u001b[38;5;124mf\u001b[39m\u001b[38;5;124m\"\u001b[39m\u001b[38;5;124mmodule \u001b[39m\u001b[38;5;132;01m{\u001b[39;00m\u001b[38;5;28mcls\u001b[39m\u001b[38;5;241m.\u001b[39m\u001b[38;5;18m__module__\u001b[39m\u001b[38;5;132;01m!r}\u001b[39;00m\u001b[38;5;124m has no attribute \u001b[39m\u001b[38;5;132;01m{\u001b[39;00mname\u001b[38;5;132;01m!r}\u001b[39;00m\u001b[38;5;124m\"\u001b[39m)\n",
      "\u001b[1;31mAttributeError\u001b[0m: module 'matplotlib' has no attribute 'figure'"
     ]
    }
   ],
   "source": [
    "# plt.figure(figsize=(8, 4))\n",
    "# sns.histplot(y, bins=20, kde=True)\n",
    "# plt.title('Distribution of SP O2')\n",
    "# plt.xlabel('SP O2')\n",
    "# plt.ylabel('Frequency')\n",
    "# plt.show()\n",
    "##negatively skeweed which means mean is less than the median of the data and mode is less than mean\n",
    "#from the peak majority of the persons have 96% as spo2 level\n",
    "#left end of the tail are outliers"
   ]
  },
  {
   "cell_type": "code",
   "execution_count": 26,
   "id": "0a6996ae",
   "metadata": {},
   "outputs": [
    {
     "name": "stderr",
     "output_type": "stream",
     "text": [
      "C:\\Users\\ASUS\\anaconda3\\lib\\site-packages\\seaborn\\_decorators.py:36: FutureWarning: Pass the following variables as keyword args: x, y. From version 0.12, the only valid positional argument will be `data`, and passing other arguments without an explicit keyword will result in an error or misinterpretation.\n",
      "  warnings.warn(\n"
     ]
    },
    {
     "data": {
      "image/png": "[encoded data removed]",
      "text/plain": [
       "<Figure size 576x432 with 1 Axes>"
      ]
     },
     "metadata": {
      "needs_background": "light"
     },
     "output_type": "display_data"
    }
   ],
   "source": [
    "    plt.figure(figsize=(8, 6))\n",
    "    sns.scatterplot( x['BMI'],y)\n",
    "    plt.title('BMI vs. SP O2')\n",
    "    plt.xlabel('BMI')\n",
    "    plt.ylabel('SP O2')\n",
    "    plt.show()"
   ]
  },
  {
   "cell_type": "code",
   "execution_count": 27,
   "id": "62c684bc",
   "metadata": {},
   "outputs": [
    {
     "name": "stderr",
     "output_type": "stream",
     "text": [
      "C:\\Users\\ASUS\\anaconda3\\lib\\site-packages\\seaborn\\_decorators.py:36: FutureWarning: Pass the following variables as keyword args: x, y. From version 0.12, the only valid positional argument will be `data`, and passing other arguments without an explicit keyword will result in an error or misinterpretation.\n",
      "  warnings.warn(\n"
     ]
    },
    {
     "data": {
      "image/png": "[encoded data removed]",
      "text/plain": [
       "<Figure size 576x432 with 1 Axes>"
      ]
     },
     "metadata": {
      "needs_background": "light"
     },
     "output_type": "display_data"
    }
   ],
   "source": [
    "    plt.figure(figsize=(8, 6))\n",
    "    sns.scatterplot(x['age'],y)\n",
    "    plt.title('age vs. SP O2')\n",
    "    plt.xlabel('age')\n",
    "    plt.ylabel('SP O2')\n",
    "    plt.show()"
   ]
  },
  {
   "cell_type": "code",
   "execution_count": 37,
   "id": "263b8c09",
   "metadata": {},
   "outputs": [],
   "source": [
    "import pickle\n",
    "pickle.dump(m,open(\"oxy.pkl\",\"wb\"))"
   ]
  },
  {
   "cell_type": "code",
   "execution_count": null,
   "id": "5615f01e",
   "metadata": {},
   "outputs": [],
   "source": []
  },
  {
   "cell_type": "code",
   "execution_count": 41,
   "id": "a88a908b",
   "metadata": {},
   "outputs": [],
   "source": [
    "model=pickle.load(open('oxy.pkl',\"rb\"))"
   ]
  },
  {
   "cell_type": "code",
   "execution_count": 42,
   "id": "c79cc1e8",
   "metadata": {},
   "outputs": [],
   "source": [
    "df=np.expand_dims([72,7.588179,1,155.866667,68.333333,16.621622,68.837838],axis=0)"
   ]
  },
  {
   "cell_type": "code",
   "execution_count": 43,
   "id": "92679986",
   "metadata": {},
   "outputs": [],
   "source": [
    "d=pd.DataFrame(df)"
   ]
  },
  {
   "cell_type": "code",
   "execution_count": 44,
   "id": "9b189d39",
   "metadata": {},
   "outputs": [
    {
     "name": "stderr",
     "output_type": "stream",
     "text": [
      "C:\\Users\\ASUS\\anaconda3\\lib\\site-packages\\sklearn\\base.py:450: UserWarning: X does not have valid feature names, but BaggingRegressor was fitted with feature names\n",
      "  warnings.warn(\n"
     ]
    },
    {
     "data": {
      "text/plain": [
       "array([0.94974353])"
      ]
     },
     "execution_count": 44,
     "metadata": {},
     "output_type": "execute_result"
    }
   ],
   "source": [
    "p=model.predict(df)\n",
    "p"
   ]
  },
  {
   "cell_type": "code",
   "execution_count": 82,
   "id": "e9322caa",
   "metadata": {},
   "outputs": [
    {
     "data": {
      "text/plain": [
       "age                           int64\n",
       "BMI                         float64\n",
       "diabetes                      int64\n",
       "Systolic blood pressure     float64\n",
       "Diastolic blood pressure    float64\n",
       "Respiratory rate            float64\n",
       "heart rate                  float64\n",
       "SP O2                       float64\n",
       "dtype: object"
      ]
     },
     "execution_count": 82,
     "metadata": {},
     "output_type": "execute_result"
    }
   ],
   "source": [
    "df.dtypes"
   ]
  },
  {
   "cell_type": "code",
   "execution_count": null,
   "id": "1a3c2482",
   "metadata": {},
   "outputs": [],
   "source": []
  }
 ],
 "metadata": {
  "kernelspec": {
   "display_name": "Python 3 (ipykernel)",
   "language": "python",
   "name": "python3"
  },
  "language_info": {
   "codemirror_mode": {
    "name": "ipython",
    "version": 3
   },
   "file_extension": ".py",
   "mimetype": "text/x-python",
   "name": "python",
   "nbconvert_exporter": "python",
   "pygments_lexer": "ipython3",
   "version": "3.9.12"
  }
 },
 "nbformat": 4,
 "nbformat_minor": 5
}
